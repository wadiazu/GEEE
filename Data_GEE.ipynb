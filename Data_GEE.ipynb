{
  "nbformat": 4,
  "nbformat_minor": 0,
  "metadata": {
    "colab": {
      "name": "Data - GEE.ipynb",
      "provenance": [],
      "collapsed_sections": [
        "Ft2xld52vnaV"
      ],
      "authorship_tag": "ABX9TyOp8Xc5rU/WJVeVmiPQHPyH",
      "include_colab_link": true
    },
    "kernelspec": {
      "display_name": "Python 3",
      "name": "python3"
    },
    "language_info": {
      "name": "python"
    }
  },
  "cells": [
    {
      "cell_type": "markdown",
      "metadata": {
        "id": "view-in-github",
        "colab_type": "text"
      },
      "source": [
        "<a href=\"https://colab.research.google.com/github/wadiazu/GEEE/blob/main/Data_GEE.ipynb\" target=\"_parent\"><img src=\"https://colab.research.google.com/assets/colab-badge.svg\" alt=\"Open In Colab\"/></a>"
      ]
    },
    {
      "cell_type": "markdown",
      "metadata": {
        "id": "7ApJJ_CTwXqW"
      },
      "source": [
        "###### Este codigo fue diseñado para recopilar información referente a Precipitación y temperatura -->\n",
        "\n",
        "###### Elaborado por: \n",
        "\n",
        "###### Wilson Arbey Diaz Urueña , wadiazu@unal.edu.co\n",
        "###### Luis Jesus Martinez Hernandez, lujmartinezhe@unal.edu.co"
      ]
    },
    {
      "cell_type": "code",
      "metadata": {
        "id": "apWbRZcCvwl0"
      },
      "source": [
        "# Importar la API (Application Programming Interfaces) de Engine. Para conectar Colab con GEE\n",
        "import ee"
      ],
      "execution_count": null,
      "outputs": []
    },
    {
      "cell_type": "code",
      "metadata": {
        "id": "sHP0ckQKRGq_",
        "colab": {
          "base_uri": "https://localhost:8080/"
        },
        "outputId": "1fb8f8c5-b71e-441a-acd9-5a95426def3c"
      },
      "source": [
        "# Importar librerias en caso que sean necesarias\n",
        "import pandas as pd\n",
        "import numpy as np\n",
        "import datetime\n",
        "import glob\n",
        "import matplotlib.pyplot as plt\n",
        "import functools\n",
        "from osgeo import gdal\n",
        "from datetime import datetime\n",
        "from datetime import timedelta\n",
        "\n",
        "!pip install geopandas\n",
        "!pip install descartes \n",
        "\n",
        "import geopandas as gpd"
      ],
      "execution_count": null,
      "outputs": [
        {
          "output_type": "stream",
          "text": [
            "Collecting geopandas\n",
            "\u001b[?25l  Downloading https://files.pythonhosted.org/packages/d7/bf/e9cefb69d39155d122b6ddca53893b61535fa6ffdad70bf5ef708977f53f/geopandas-0.9.0-py2.py3-none-any.whl (994kB)\n",
            "\u001b[K     |████████████████████████████████| 1.0MB 3.9MB/s \n",
            "\u001b[?25hRequirement already satisfied: shapely>=1.6 in /usr/local/lib/python3.7/dist-packages (from geopandas) (1.7.1)\n",
            "Requirement already satisfied: pandas>=0.24.0 in /usr/local/lib/python3.7/dist-packages (from geopandas) (1.1.5)\n",
            "Collecting pyproj>=2.2.0\n",
            "\u001b[?25l  Downloading https://files.pythonhosted.org/packages/b1/72/d52e9ca81caef056062d71991b0e9b1d16af042245627c5d0e4916a36c4f/pyproj-3.0.1-cp37-cp37m-manylinux2010_x86_64.whl (6.5MB)\n",
            "\u001b[K     |████████████████████████████████| 6.5MB 21.4MB/s \n",
            "\u001b[?25hCollecting fiona>=1.8\n",
            "\u001b[?25l  Downloading https://files.pythonhosted.org/packages/ea/2a/404b22883298a3efe9c6ef8d67acbf2c38443fa366ee9cd4cd34e17626ea/Fiona-1.8.19-cp37-cp37m-manylinux1_x86_64.whl (15.3MB)\n",
            "\u001b[K     |████████████████████████████████| 15.3MB 222kB/s \n",
            "\u001b[?25hRequirement already satisfied: pytz>=2017.2 in /usr/local/lib/python3.7/dist-packages (from pandas>=0.24.0->geopandas) (2018.9)\n",
            "Requirement already satisfied: numpy>=1.15.4 in /usr/local/lib/python3.7/dist-packages (from pandas>=0.24.0->geopandas) (1.19.5)\n",
            "Requirement already satisfied: python-dateutil>=2.7.3 in /usr/local/lib/python3.7/dist-packages (from pandas>=0.24.0->geopandas) (2.8.1)\n",
            "Requirement already satisfied: certifi in /usr/local/lib/python3.7/dist-packages (from pyproj>=2.2.0->geopandas) (2020.12.5)\n",
            "Requirement already satisfied: six>=1.7 in /usr/local/lib/python3.7/dist-packages (from fiona>=1.8->geopandas) (1.15.0)\n",
            "Collecting munch\n",
            "  Downloading https://files.pythonhosted.org/packages/cc/ab/85d8da5c9a45e072301beb37ad7f833cd344e04c817d97e0cc75681d248f/munch-2.5.0-py2.py3-none-any.whl\n",
            "Collecting cligj>=0.5\n",
            "  Downloading https://files.pythonhosted.org/packages/42/1e/947eadf10d6804bf276eb8a038bd5307996dceaaa41cfd21b7a15ec62f5d/cligj-0.7.1-py3-none-any.whl\n",
            "Requirement already satisfied: click<8,>=4.0 in /usr/local/lib/python3.7/dist-packages (from fiona>=1.8->geopandas) (7.1.2)\n",
            "Collecting click-plugins>=1.0\n",
            "  Downloading https://files.pythonhosted.org/packages/e9/da/824b92d9942f4e472702488857914bdd50f73021efea15b4cad9aca8ecef/click_plugins-1.1.1-py2.py3-none-any.whl\n",
            "Requirement already satisfied: attrs>=17 in /usr/local/lib/python3.7/dist-packages (from fiona>=1.8->geopandas) (21.2.0)\n",
            "Installing collected packages: pyproj, munch, cligj, click-plugins, fiona, geopandas\n",
            "Successfully installed click-plugins-1.1.1 cligj-0.7.1 fiona-1.8.19 geopandas-0.9.0 munch-2.5.0 pyproj-3.0.1\n",
            "Requirement already satisfied: descartes in /usr/local/lib/python3.7/dist-packages (1.1.0)\n",
            "Requirement already satisfied: matplotlib in /usr/local/lib/python3.7/dist-packages (from descartes) (3.2.2)\n",
            "Requirement already satisfied: python-dateutil>=2.1 in /usr/local/lib/python3.7/dist-packages (from matplotlib->descartes) (2.8.1)\n",
            "Requirement already satisfied: numpy>=1.11 in /usr/local/lib/python3.7/dist-packages (from matplotlib->descartes) (1.19.5)\n",
            "Requirement already satisfied: pyparsing!=2.0.4,!=2.1.2,!=2.1.6,>=2.0.1 in /usr/local/lib/python3.7/dist-packages (from matplotlib->descartes) (2.4.7)\n",
            "Requirement already satisfied: cycler>=0.10 in /usr/local/lib/python3.7/dist-packages (from matplotlib->descartes) (0.10.0)\n",
            "Requirement already satisfied: kiwisolver>=1.0.1 in /usr/local/lib/python3.7/dist-packages (from matplotlib->descartes) (1.3.1)\n",
            "Requirement already satisfied: six>=1.5 in /usr/local/lib/python3.7/dist-packages (from python-dateutil>=2.1->matplotlib->descartes) (1.15.0)\n"
          ],
          "name": "stdout"
        }
      ]
    },
    {
      "cell_type": "code",
      "metadata": {
        "id": "HMaBH5v6OICd"
      },
      "source": [
        "# Permisos de acceso. Cundo se tiene la información en el drive\n",
        "from google.colab import drive\n",
        "drive.mount('/content/drive')"
      ],
      "execution_count": null,
      "outputs": []
    },
    {
      "cell_type": "code",
      "metadata": {
        "colab": {
          "base_uri": "https://localhost:8080/"
        },
        "id": "nS2FmMxPOIT5",
        "outputId": "f2dc42fc-3e85-4cb3-df8a-d424c5c9da5b"
      },
      "source": [
        "# Para creear el acceso con Engine y autenticar usuario\n",
        "# Trigger the authentication flow.\n",
        "ee.Authenticate()\n",
        "\n",
        "# Initialize the library.\n",
        "ee.Initialize()"
      ],
      "execution_count": null,
      "outputs": [
        {
          "output_type": "stream",
          "text": [
            "To authorize access needed by Earth Engine, open the following URL in a web browser and follow the instructions. If the web browser does not start automatically, please manually browse the URL below.\n",
            "\n",
            "    https://accounts.google.com/o/oauth2/auth?client_id=517222506229-vsmmajv00ul0bs7p89v5m89qs8eb9359.apps.googleusercontent.com&scope=https%3A%2F%2Fwww.googleapis.com%2Fauth%2Fearthengine+https%3A%2F%2Fwww.googleapis.com%2Fauth%2Fdevstorage.full_control&redirect_uri=urn%3Aietf%3Awg%3Aoauth%3A2.0%3Aoob&response_type=code&code_challenge=Nv7LOzoaVu35baVzU6o7y9s-_6F9_UL90dUdoViX6LY&code_challenge_method=S256\n",
            "\n",
            "The authorization workflow will generate a code, which you should paste in the box below. \n",
            "Enter verification code: 4/1AY0e-g5FcJ6Q8VOGV0xcXgH2vqcXEzE3-NWUBVyz2JMnJv8L7TWHYaMU8Do\n",
            "\n",
            "Successfully saved authorization token.\n"
          ],
          "name": "stdout"
        }
      ]
    },
    {
      "cell_type": "markdown",
      "metadata": {
        "id": "Ft2xld52vnaV"
      },
      "source": [
        "# Precipitation"
      ]
    },
    {
      "cell_type": "code",
      "metadata": {
        "id": "c6eIFwo7OImJ"
      },
      "source": [
        "Chirps=ee.ImageCollection(\"UCSB-CHG/CHIRPS/DAILY\")"
      ],
      "execution_count": null,
      "outputs": []
    },
    {
      "cell_type": "code",
      "metadata": {
        "id": "Rj_DiQ1SgZBJ"
      },
      "source": [
        "med= ee.FeatureCollection('users/wadiazu/Medellin')\n",
        "medur= ee.FeatureCollection('users/wadiazu/Medellin_urbano')\n",
        "medru= ee.FeatureCollection('users/wadiazu/Medellin_rural')"
      ],
      "execution_count": null,
      "outputs": []
    },
    {
      "cell_type": "code",
      "metadata": {
        "id": "qeflEeiuOI_F"
      },
      "source": [
        "Med=med.geometry()\n",
        "Medur=medur.geometry()\n",
        "Medru=medru.geometry()"
      ],
      "execution_count": null,
      "outputs": []
    },
    {
      "cell_type": "code",
      "metadata": {
        "id": "hPVEzMmlNJ3n"
      },
      "source": [
        "months = ee.List.sequence(1,12) \n",
        "years = ee.List.sequence(2007,2017)"
      ],
      "execution_count": null,
      "outputs": []
    },
    {
      "cell_type": "code",
      "metadata": {
        "id": "Hasg2A6xN9Qn"
      },
      "source": [
        "#definimos las fechas de inicio y fin\n",
        "inicio=datetime(2006,12,31,0,0,0)\n",
        "fin=datetime(2007,1,28,0,0,0)"
      ],
      "execution_count": null,
      "outputs": []
    },
    {
      "cell_type": "code",
      "metadata": {
        "colab": {
          "base_uri": "https://localhost:8080/"
        },
        "id": "-QwOlTCzO9VY",
        "outputId": "5b7243ee-d0ca-421d-fd14-98003ede45ca"
      },
      "source": [
        "#lista de fechas segun la frecuencia, diario, mensual\n",
        "Daterange=pd.date_range(inicio,fin,freq=\"d\")\n",
        "print(Daterange)"
      ],
      "execution_count": null,
      "outputs": [
        {
          "output_type": "stream",
          "text": [
            "DatetimeIndex(['2006-12-31', '2007-01-01', '2007-01-02', '2007-01-03',\n",
            "               '2007-01-04', '2007-01-05', '2007-01-06', '2007-01-07',\n",
            "               '2007-01-08', '2007-01-09', '2007-01-10', '2007-01-11',\n",
            "               '2007-01-12', '2007-01-13', '2007-01-14', '2007-01-15',\n",
            "               '2007-01-16', '2007-01-17', '2007-01-18', '2007-01-19',\n",
            "               '2007-01-20', '2007-01-21', '2007-01-22', '2007-01-23',\n",
            "               '2007-01-24', '2007-01-25', '2007-01-26', '2007-01-27',\n",
            "               '2007-01-28'],\n",
            "              dtype='datetime64[ns]', freq='D')\n"
          ],
          "name": "stdout"
        }
      ]
    },
    {
      "cell_type": "code",
      "metadata": {
        "id": "GGbMKLqz9Wu0"
      },
      "source": [
        "lista=[]\n",
        "for i in Daterange:\n",
        "  image=Chirps.select(['precipitation']).filterDate(i,i+ timedelta(days=1)).sum().clipToCollection(med)\n",
        "  lista.append(image)"
      ],
      "execution_count": null,
      "outputs": []
    },
    {
      "cell_type": "code",
      "metadata": {
        "id": "GbVtHFCdQHmZ"
      },
      "source": [
        "chirps_mean=ee.ImageCollection(lista)"
      ],
      "execution_count": null,
      "outputs": []
    },
    {
      "cell_type": "code",
      "metadata": {
        "id": "suUxIg0zT9Iq"
      },
      "source": [
        "months = ee.List.sequence(1,12) \n",
        "years = ee.List.sequence(2007,2017)"
      ],
      "execution_count": null,
      "outputs": []
    },
    {
      "cell_type": "code",
      "metadata": {
        "id": "KqpOir-aPrO3"
      },
      "source": [
        "chirps_mean = ee.ImageCollection.fromImages(years.map(lambda y: months.map(lambda m: CHIRPS.filter(ee.Filter.calendarRange(m,m,'month')).\n",
        "                                                                           filter(ee.Filter.calendarRange(y,y,'year')).sum().set('month', m).set('year', y).\n",
        "                                                                           set('date', ee.Date.fromYMD(y,m,1)).set('system:time_start',ee.Date.fromYMD(y,m,1)))).flatten())\n"
      ],
      "execution_count": null,
      "outputs": []
    },
    {
      "cell_type": "code",
      "metadata": {
        "id": "dsxOHE8DP88B"
      },
      "source": [
        "def means(img, arg_1):\n",
        "    precip = img.reduceRegion(ee.Reducer.mean(),arg_1,5500)\n",
        "    props = {'precipitation': precip.get('precipitation')}\n",
        "    return ee.Feature(arg_1, props)"
      ],
      "execution_count": null,
      "outputs": []
    },
    {
      "cell_type": "code",
      "metadata": {
        "id": "uSsudRwgPpQp"
      },
      "source": [
        "def fc_to_dict(med):\n",
        "  prop_names = med.first().propertyNames()\n",
        "  prop_lists = med.reduceColumns(\n",
        "      reducer=ee.Reducer.toList().repeat(prop_names.size()),\n",
        "      selectors=prop_names).get('list')\n",
        "  return ee.Dictionary.fromLists(prop_names, prop_lists)"
      ],
      "execution_count": null,
      "outputs": []
    },
    {
      "cell_type": "code",
      "metadata": {
        "id": "iOBKe32fOwQi"
      },
      "source": [
        "func_co = functools.partial(means, arg_1=Med)\n",
        "chirps = pd.DataFrame(fc_to_dict(ee.FeatureCollection(chirps_mean.map(func_co))).getInfo()['precipitation'], columns=['Medellin'])\n",
        "func_ve = functools.partial(means, arg_1=Medur)\n",
        "chirps['MedellinRural'] = pd.DataFrame(fc_to_dict(ee.FeatureCollection(chirps_mean.map(func_ve))).getInfo()['precipitation'])\n",
        "func_wa = functools.partial(means, arg_1=Medru)\n",
        "chirps['MedellinUrbano'] = pd.DataFrame(fc_to_dict(ee.FeatureCollection(chirps_mean.map(func_wa))).getInfo()['precipitation'])\n"
      ],
      "execution_count": null,
      "outputs": []
    },
    {
      "cell_type": "code",
      "metadata": {
        "colab": {
          "base_uri": "https://localhost:8080/"
        },
        "id": "TaTaaVHHOxtD",
        "outputId": "f72d96be-4a43-4b13-ae85-367870546d43"
      },
      "source": [
        "print(chirps)"
      ],
      "execution_count": null,
      "outputs": [
        {
          "output_type": "stream",
          "text": [
            "     Medellin  MedellinRural  MedellinUrbano\n",
            "0    4.689406       6.809430        3.655764\n",
            "1    0.000000       0.000000        0.000000\n",
            "2    0.000000       0.000000        0.000000\n",
            "3    0.000000       0.000000        0.000000\n",
            "4    5.711017       5.123229        5.968616\n",
            "5    0.000000       0.000000        0.000000\n",
            "6    0.000000       0.000000        0.000000\n",
            "7    0.000000       0.000000        0.000000\n",
            "8   13.114437      14.097693       12.645848\n",
            "9    0.000000       0.000000        0.000000\n",
            "10   0.000000       0.000000        0.000000\n",
            "11   0.000000       0.000000        0.000000\n",
            "12   0.000000       0.000000        0.000000\n",
            "13   6.396178       6.084783        6.507294\n",
            "14   0.000000       0.000000        0.000000\n",
            "15   0.000000       0.000000        0.000000\n",
            "16   0.959090       0.412804        1.189793\n",
            "17   1.077423       0.412804        1.361648\n",
            "18   0.000000       0.000000        0.000000\n",
            "19   0.000000       0.000000        0.000000\n",
            "20   0.000000       0.000000        0.000000\n",
            "21   0.000000       0.000000        0.000000\n",
            "22   0.000000       0.000000        0.000000\n",
            "23   0.000000       0.000000        0.000000\n",
            "24   0.000000       0.000000        0.000000\n",
            "25   5.386240       2.485909        6.860843\n",
            "26  14.019252      19.131059       11.578440\n",
            "27   0.000000       0.000000        0.000000\n",
            "28   0.000000       0.000000        0.000000\n"
          ],
          "name": "stdout"
        }
      ]
    },
    {
      "cell_type": "code",
      "metadata": {
        "id": "iGrWkioyOx7I"
      },
      "source": [
        "chirps.index=Daterange"
      ],
      "execution_count": null,
      "outputs": []
    },
    {
      "cell_type": "code",
      "metadata": {
        "colab": {
          "base_uri": "https://localhost:8080/"
        },
        "id": "aRb9HkOwUO_v",
        "outputId": "669ef2ef-65f3-4cb4-8076-60dbcaad2c0f"
      },
      "source": [
        "print(chirps)"
      ],
      "execution_count": null,
      "outputs": [
        {
          "output_type": "stream",
          "text": [
            "            Medellin  MedellinRural  MedellinUrbano\n",
            "2006-12-31  4.689406       6.809430        3.655764\n",
            "2007-01-01  0.000000       0.000000        0.000000\n",
            "2007-01-02  0.000000       0.000000        0.000000\n",
            "2007-01-03  0.000000       0.000000        0.000000\n",
            "2007-01-04  5.711017       5.123229        5.968616\n",
            "...              ...            ...             ...\n",
            "2019-12-24  0.002122       0.002164        0.000000\n",
            "2019-12-25  5.450239       4.487188        5.873099\n",
            "2019-12-26  4.757602       5.540309        4.381318\n",
            "2019-12-27  7.033531       5.792221        7.565150\n",
            "2019-12-28  0.000000       0.000000        0.000000\n",
            "\n",
            "[4746 rows x 3 columns]\n"
          ],
          "name": "stdout"
        }
      ]
    },
    {
      "cell_type": "code",
      "metadata": {
        "id": "wBABUI9nVBC2"
      },
      "source": [
        "Datos_semanal=chirps.resample(\"7D\").sum()"
      ],
      "execution_count": null,
      "outputs": []
    },
    {
      "cell_type": "code",
      "metadata": {
        "colab": {
          "base_uri": "https://localhost:8080/"
        },
        "id": "yoPdzomeVB5m",
        "outputId": "e68f0d15-c8c4-4c03-9003-a5b739c127ff"
      },
      "source": [
        "print(Datos_semanal)"
      ],
      "execution_count": null,
      "outputs": [
        {
          "output_type": "stream",
          "text": [
            "             Medellin  MedellinRural  MedellinUrbano\n",
            "2006-12-31  10.400423      11.932660        9.624380\n",
            "2007-01-07  19.510615      20.182476       19.153142\n",
            "2007-01-14   2.036514       0.825607        2.551441\n",
            "2007-01-21  19.405491      21.616968       18.439284\n",
            "2007-01-28   0.000000       0.000000        0.000000\n",
            "...               ...            ...             ...\n",
            "2019-11-24  15.607313      15.862694       15.462729\n",
            "2019-12-01   9.035788       6.591552       10.151920\n",
            "2019-12-08  26.450263      26.978917       26.226603\n",
            "2019-12-15  13.327096      14.847955       12.606804\n",
            "2019-12-22  17.386120      15.821882       18.026700\n",
            "\n",
            "[678 rows x 3 columns]\n"
          ],
          "name": "stdout"
        }
      ]
    },
    {
      "cell_type": "code",
      "metadata": {
        "id": "tCUl841wSFoK"
      },
      "source": [
        "#exportar a csv\n",
        "# Datos_semanal.to_csv('Datos_semanal.csv')"
      ],
      "execution_count": null,
      "outputs": []
    },
    {
      "cell_type": "markdown",
      "metadata": {
        "id": "Er40CN7ZMq_0"
      },
      "source": [
        "#Temperatura"
      ]
    },
    {
      "cell_type": "code",
      "metadata": {
        "id": "F1vpBkc_NDDr"
      },
      "source": [
        "LST=ee.ImageCollection(\"MODIS/006/MOD11A1\")"
      ],
      "execution_count": null,
      "outputs": []
    },
    {
      "cell_type": "code",
      "metadata": {
        "id": "zbxks1tCSOXV"
      },
      "source": [
        "# lst=LST.select(['LST_Day_1km'])\n",
        "# # lst_scale=lst.multiply(0.02)"
      ],
      "execution_count": null,
      "outputs": []
    },
    {
      "cell_type": "code",
      "metadata": {
        "id": "tfqj7OINNDD1"
      },
      "source": [
        "med= ee.FeatureCollection('users/wadiazu/Medellin')\n",
        "medur= ee.FeatureCollection('users/wadiazu/Medellin_urbano')\n",
        "medru= ee.FeatureCollection('users/wadiazu/Medellin_rural')"
      ],
      "execution_count": null,
      "outputs": []
    },
    {
      "cell_type": "code",
      "metadata": {
        "id": "heBNVYfYNDD2"
      },
      "source": [
        "Med=med.geometry()\n",
        "Medur=medur.geometry()\n",
        "Medru=medru.geometry()"
      ],
      "execution_count": null,
      "outputs": []
    },
    {
      "cell_type": "code",
      "metadata": {
        "id": "vbEv792HNDD2"
      },
      "source": [
        "#definimos las fechas de inicio y fin\n",
        "inicio=datetime(2006,12,31,0,0,0)\n",
        "fin=datetime(2007,1,1,0,0,0)"
      ],
      "execution_count": null,
      "outputs": []
    },
    {
      "cell_type": "code",
      "metadata": {
        "colab": {
          "base_uri": "https://localhost:8080/"
        },
        "id": "IpjBq89CNDD2",
        "outputId": "14397811-e73a-4d8e-daad-51f2d742046c"
      },
      "source": [
        "#lista de fechas segun la frecuencia, diario, mensual\n",
        "Daterange=pd.date_range(inicio,fin,freq=\"d\")\n",
        "print(Daterange)"
      ],
      "execution_count": null,
      "outputs": [
        {
          "output_type": "stream",
          "text": [
            "DatetimeIndex(['2006-12-31', '2007-01-01'], dtype='datetime64[ns]', freq='D')\n"
          ],
          "name": "stdout"
        }
      ]
    },
    {
      "cell_type": "code",
      "metadata": {
        "id": "SizT__qRNDD3"
      },
      "source": [
        "lista=[]\n",
        "for i in Daterange:\n",
        "   image=LST.select(['LST_Day_1km']).filterDate(i,i+ timedelta(days=1)).sum().clipToCollection(med)\n",
        "   lista.append(image)"
      ],
      "execution_count": null,
      "outputs": []
    },
    {
      "cell_type": "code",
      "metadata": {
        "id": "-MPf3XR4NDD3"
      },
      "source": [
        "lst_mean=ee.ImageCollection.fromImages(lista)"
      ],
      "execution_count": null,
      "outputs": []
    },
    {
      "cell_type": "code",
      "metadata": {
        "id": "MgVRRdZ-NDD4"
      },
      "source": [
        "months = ee.List.sequence(1,12) \n",
        "years = ee.List.sequence(2007,2017)"
      ],
      "execution_count": null,
      "outputs": []
    },
    {
      "cell_type": "code",
      "metadata": {
        "id": "qjNMLlZPNDD4"
      },
      "source": [
        "lst_mean = ee.ImageCollection.fromImages(years.map(lambda y: months.map(lambda m: LST.filter(ee.Filter.calendarRange(m,m,'month')).\n",
        "                                                                           filter(ee.Filter.calendarRange(y,y,'year')).sum().set('month', m).set('year', y).\n",
        "                                                                           set('date', ee.Date.fromYMD(y,m,1)).set('system:time_start',ee.Date.fromYMD(y,m,1)))).flatten())\n"
      ],
      "execution_count": null,
      "outputs": []
    },
    {
      "cell_type": "code",
      "metadata": {
        "id": "YDkZHXgrNDD4"
      },
      "source": [
        "def means(img, arg_1):\n",
        "    temp = img.reduceRegion(ee.Reducer.mean(),arg_1,1000)\n",
        "    props = {'LST_Day_1km': temp.get('LST_Day_1km')}\n",
        "    return ee.Feature(arg_1, props)"
      ],
      "execution_count": null,
      "outputs": []
    },
    {
      "cell_type": "code",
      "metadata": {
        "id": "BGa9V4rQNDD4"
      },
      "source": [
        "def fc_to_dict(med):\n",
        "  prop_names = med.first().propertyNames()\n",
        "  prop_lists = med.reduceColumns(\n",
        "      reducer=ee.Reducer.toList().repeat(prop_names.size()),\n",
        "      selectors=prop_names).get('list')\n",
        "  return ee.Dictionary.fromLists(prop_names, prop_lists)"
      ],
      "execution_count": null,
      "outputs": []
    },
    {
      "cell_type": "code",
      "metadata": {
        "id": "tLl0mbzl5383"
      },
      "source": [
        "func_co = functools.partial(means, arg_1=Med)\n",
        "chirps = pd.DataFrame(fc_to_dict(ee.FeatureCollection(lst_mean.map(func_co))).getInfo()['LST_Day_1km'], columns=['Medellin'])"
      ],
      "execution_count": null,
      "outputs": []
    },
    {
      "cell_type": "code",
      "metadata": {
        "colab": {
          "base_uri": "https://localhost:8080/"
        },
        "id": "4mrszqep-n8B",
        "outputId": "33563c0c-5ff3-4b6e-947a-4f63baeeefac"
      },
      "source": [
        "print(chirps)\n"
      ],
      "execution_count": null,
      "outputs": [
        {
          "output_type": "stream",
          "text": [
            "          Medellin\n",
            "0     61440.862151\n",
            "1    267944.408003\n",
            "2     49216.941840\n",
            "3     37182.875673\n",
            "4     78413.262620\n",
            "..             ...\n",
            "127  123828.776469\n",
            "128   94201.975344\n",
            "129   72497.541278\n",
            "130   78496.264270\n",
            "131  141683.041559\n",
            "\n",
            "[132 rows x 1 columns]\n"
          ],
          "name": "stdout"
        }
      ]
    },
    {
      "cell_type": "markdown",
      "metadata": {
        "id": "63O55y7U54ox"
      },
      "source": [
        "##GEE ENSAYO"
      ]
    },
    {
      "cell_type": "code",
      "metadata": {
        "id": "pg6n9_-HjW35"
      },
      "source": [
        "day=ee.Date.fromYMD(2006,12,31)\n",
        "enddate=ee.Date.fromYMD(2007,1,28)\n",
        "difdate =enddate.difference(day, 'day')\n"
      ],
      "execution_count": null,
      "outputs": []
    },
    {
      "cell_type": "code",
      "metadata": {
        "id": "ODNgpzGHjniG"
      },
      "source": [
        "list=ee.List.sequence(0,difdate)\n"
      ],
      "execution_count": null,
      "outputs": []
    },
    {
      "cell_type": "code",
      "metadata": {
        "id": "AoPzeO0pjxGb"
      },
      "source": [
        "lista=ee.List.sequence(0,difdate.subtract(1))\n"
      ],
      "execution_count": null,
      "outputs": []
    },
    {
      "cell_type": "code",
      "metadata": {
        "id": "F1GCsmQ6j6s2"
      },
      "source": [
        "def fechas_fun(number):\n",
        "  return day.advance(number, 'day')"
      ],
      "execution_count": null,
      "outputs": []
    },
    {
      "cell_type": "code",
      "metadata": {
        "id": "X16vw5shkCDQ"
      },
      "source": [
        "fechas_list=list.map(fechas_fun)\n",
        "print(fechas_list)"
      ],
      "execution_count": null,
      "outputs": []
    },
    {
      "cell_type": "code",
      "metadata": {
        "id": "FIknw08YkL1j"
      },
      "source": [
        "Temp=ee.ImageCollection(\"MODIS/006/MOD11A1\")"
      ],
      "execution_count": null,
      "outputs": []
    },
    {
      "cell_type": "code",
      "metadata": {
        "id": "ujnGNJSwkVTz"
      },
      "source": [
        "def colection_SL(number):\n",
        "  return Temp.select(['LST_Day_1km']).filterDate(ee.Date(fechas_list.get(number)), ee.Date(fechas_list.get(number)).advance(1, 'day')).sum().clipToCollection(Med)\n"
      ],
      "execution_count": null,
      "outputs": []
    },
    {
      "cell_type": "code",
      "metadata": {
        "id": "hcC9XW31kca3"
      },
      "source": [
        "list_Chirps_SL=lista.map(colection_SL)\n",
        "\n",
        "\n",
        "imagecol_SL=ee.ImageCollection(list_Chirps_SL)\n"
      ],
      "execution_count": null,
      "outputs": []
    },
    {
      "cell_type": "code",
      "metadata": {
        "id": "7GQTFjlikoP5"
      },
      "source": [
        "mean_Dia_SL=imagecol_SL.reduce(ee.Reducer.mean())\n"
      ],
      "execution_count": null,
      "outputs": []
    },
    {
      "cell_type": "code",
      "metadata": {
        "id": "RXKEW_MfkqhF"
      },
      "source": [
        "def list_funtion(number):\n",
        "  image_reduc=ee.Image(list_Chirps_SL.get(number)).reduceRegion(ee.Reducer.mean(),Med,1000)\n",
        "  listas_ind=[ee.Date(fechas_list.get(number)).format('YYYY-MM-dd'),image_reduc.get(\"LST_Day_1km\")]\n",
        "  return listas_ind"
      ],
      "execution_count": null,
      "outputs": []
    },
    {
      "cell_type": "code",
      "metadata": {
        "id": "xlHBaHK9k_3i"
      },
      "source": [
        "Values=lista.map(list_funtion)\n",
        "print(Values)"
      ],
      "execution_count": null,
      "outputs": []
    },
    {
      "cell_type": "code",
      "metadata": {
        "id": "IUohrCzSg4XU"
      },
      "source": [
        ""
      ],
      "execution_count": null,
      "outputs": []
    }
  ]
}